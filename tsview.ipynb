{
 "cells": [
  {
   "cell_type": "code",
   "execution_count": null,
   "id": "d76c06c1",
   "metadata": {},
   "outputs": [],
   "source": [
    "import numpy as np\n",
    "import pandas as pd\n",
    "import matplotlib.pyplot as plt\n",
    "import seaborn as sns\n",
    "\n",
    "# Set seaborn theme.\n",
    "sns.set_theme(style='darkgrid')"
   ]
  },
  {
   "cell_type": "code",
   "execution_count": null,
   "id": "2b96b298",
   "metadata": {},
   "outputs": [],
   "source": [
    "# Load data and setup dataframe.\n",
    "df = pd.read_csv('results.csv')\n",
    "df.sort_values('from', ascending=True, inplace=True)\n",
    "df.index = pd.to_datetime(df['from'])"
   ]
  },
  {
   "cell_type": "code",
   "execution_count": null,
   "id": "2a0966ea",
   "metadata": {},
   "outputs": [],
   "source": [
    "# Remove malformed images.\n",
    "df = df.drop(df[df['n_objs'] <= 10].index)\n",
    "\n",
    "# Sum by month.\n",
    "df_mean = df.groupby(pd.Grouper(freq=\"M\")).mean()"
   ]
  },
  {
   "cell_type": "code",
   "execution_count": null,
   "id": "a14b175c",
   "metadata": {},
   "outputs": [],
   "source": [
    "# Split by year and sum by month.\n",
    "df_2017 = df[df['from'] < '2018-01-01']\n",
    "df_2018 = df[(df['from'] < '2019-01-01') & (df['from'] >= '2018-01-01')]\n",
    "df_2019 = df[(df['from'] < '2020-01-01') & (df['from'] >= '2019-01-01')]\n",
    "df_2020 = df[df['from'] >= '2020-01-01']\n",
    "df_2017_mean = df_2017.groupby(pd.Grouper(freq=\"M\")).mean()\n",
    "df_2018_mean = df_2018.groupby(pd.Grouper(freq=\"M\")).mean()\n",
    "df_2019_mean = df_2019.groupby(pd.Grouper(freq=\"M\")).mean()\n",
    "df_2020_mean = df_2020.groupby(pd.Grouper(freq=\"M\")).mean()"
   ]
  },
  {
   "cell_type": "code",
   "execution_count": null,
   "id": "09b5ef3a",
   "metadata": {},
   "outputs": [],
   "source": [
    "# Plot full time series.\n",
    "lbls = [s.strftime('%Y-%m') for s in df_mean.index[::3]]\n",
    "fig = plt.figure(figsize=(10, 8))\n",
    "plt.plot(df_mean.index, df_mean.n_objs)\n",
    "plt.xticks(df_mean.index[::3], lbls, rotation=70)\n",
    "plt.xlabel('Date (year/month)')\n",
    "plt.ylabel('No. of ships')\n",
    "plt.grid(True)\n",
    "plt.title('Port of Olbia - Average ships daily detected per month')\n",
    "plt.savefig('ts.png', facecolor='white', dpi=300)\n",
    "plt.show()"
   ]
  },
  {
   "cell_type": "code",
   "execution_count": null,
   "id": "0539536d-546a-4ac2-b3aa-7a7a81588d3a",
   "metadata": {},
   "outputs": [],
   "source": [
    "# Aggregate summer months.\n",
    "df_2017_mean['month'] = list(df_2017_mean.index.month)\n",
    "df_2018_mean['month'] = list(df_2018_mean.index.month)\n",
    "df_2019_mean['month'] = list(df_2019_mean.index.month)\n",
    "df_2020_mean['month'] = list(df_2020_mean.index.month)\n",
    "summer_2017 = df_2017_mean[(df_2017_mean.month >= 4) & (df_2017_mean.month <= 9)].n_objs.sum()\n",
    "summer_2018 = df_2018_mean[(df_2018_mean.month >= 4) & (df_2018_mean.month <= 9)].n_objs.sum()\n",
    "summer_2019 = df_2019_mean[(df_2019_mean.month >= 4) & (df_2019_mean.month <= 9)].n_objs.sum()\n",
    "summer_2020 = df_2020_mean[(df_2020_mean.month >= 4) & (df_2020_mean.month <= 9)].n_objs.sum()"
   ]
  },
  {
   "cell_type": "code",
   "execution_count": null,
   "id": "74e503ec-afbe-4911-af38-0322633ed046",
   "metadata": {},
   "outputs": [],
   "source": [
    "# Plot summer seasons.\n",
    "x = [2017, 2018, 2019, 2020]\n",
    "y = [summer_2017, summer_2018, summer_2019, summer_2020]\n",
    "y = [v / summer_2017 for v in y]\n",
    "\n",
    "font = {\n",
    "    'color':  'darkred',\n",
    "    'weight': 'regular',\n",
    "    'size': 14,\n",
    "}\n",
    "\n",
    "fig, ax = plt.subplots()\n",
    "ax.bar(x, y)\n",
    "plt.grid(True)\n",
    "plt.xticks(x, [str(yy) for yy in x], rotation=70)\n",
    "plt.xlabel('Summer season')\n",
    "plt.ylabel('Ship count [%]')\n",
    "plt.title('Ship count normalized on 2017')\n",
    "plt.text(2016.7, y[0] - .1, f'{100*y[0]:.2f}%', fontdict=font)\n",
    "plt.text(2017.7, y[1] - .1, f'{100*y[1]:.2f}%', fontdict=font)\n",
    "plt.text(2018.7, y[2] - .1, f'{100*y[2]:.2f}%', fontdict=font)\n",
    "plt.text(2019.8, y[3] - .1, f'{100*y[3]:.2f}%', fontdict=font)\n",
    "plt.subplots_adjust(bottom = 0.2)\n",
    "fig.savefig('summers.png', dpi = 300)"
   ]
  }
 ],
 "metadata": {
  "kernelspec": {
   "display_name": "Python 3 (ipykernel)",
   "language": "python",
   "name": "python3"
  },
  "language_info": {
   "codemirror_mode": {
    "name": "ipython",
    "version": 3
   },
   "file_extension": ".py",
   "mimetype": "text/x-python",
   "name": "python",
   "nbconvert_exporter": "python",
   "pygments_lexer": "ipython3",
   "version": "3.9.4"
  }
 },
 "nbformat": 4,
 "nbformat_minor": 5
}
